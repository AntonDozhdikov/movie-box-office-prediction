{
 "cells": [
  {
   "cell_type": "code",
   "execution_count": 1,
   "id": "0996cbb3",
   "metadata": {},
   "outputs": [],
   "source": [
    "# подключение основных библиотек\n",
    "import numpy as np \n",
    "import pandas as pd\n",
    "import matplotlib.pyplot as plt\n",
    "%matplotlib inline\n",
    "import seaborn as sns\n",
    "\n",
    "# устанавливаем точность чисел с плавающей точкой\n",
    "%precision %.4f\n",
    "\n",
    "import warnings\n",
    "warnings.filterwarnings('ignore')  # отключаем предупреждения"
   ]
  },
  {
   "cell_type": "code",
   "execution_count": 2,
   "id": "91e9e3a8",
   "metadata": {},
   "outputs": [
    {
     "data": {
      "text/html": [
       "<div>\n",
       "<style scoped>\n",
       "    .dataframe tbody tr th:only-of-type {\n",
       "        vertical-align: middle;\n",
       "    }\n",
       "\n",
       "    .dataframe tbody tr th {\n",
       "        vertical-align: top;\n",
       "    }\n",
       "\n",
       "    .dataframe thead th {\n",
       "        text-align: right;\n",
       "    }\n",
       "</style>\n",
       "<table border=\"1\" class=\"dataframe\">\n",
       "  <thead>\n",
       "    <tr style=\"text-align: right;\">\n",
       "      <th></th>\n",
       "      <th>ID_kinopoisk</th>\n",
       "      <th>week</th>\n",
       "      <th>month</th>\n",
       "      <th>screens</th>\n",
       "      <th>budget</th>\n",
       "      <th>age_R</th>\n",
       "      <th>time</th>\n",
       "      <th>genre_box_buget</th>\n",
       "      <th>genre_avr_kinopoisk_R</th>\n",
       "      <th>genre_avr_box</th>\n",
       "      <th>...</th>\n",
       "      <th>skr2_box_buget</th>\n",
       "      <th>skr2_avr_kinopoisk_R</th>\n",
       "      <th>skr2_avr_box</th>\n",
       "      <th>skr2_avr_views</th>\n",
       "      <th>box_budget</th>\n",
       "      <th>kinopoisk_R</th>\n",
       "      <th>box</th>\n",
       "      <th>views</th>\n",
       "      <th>rezult</th>\n",
       "      <th>rezult4</th>\n",
       "    </tr>\n",
       "  </thead>\n",
       "  <tbody>\n",
       "    <tr>\n",
       "      <th>0</th>\n",
       "      <td>70952.0</td>\n",
       "      <td>7</td>\n",
       "      <td>2</td>\n",
       "      <td>100</td>\n",
       "      <td>46096480.0</td>\n",
       "      <td>12.0</td>\n",
       "      <td>115.0</td>\n",
       "      <td>0.51</td>\n",
       "      <td>6.18</td>\n",
       "      <td>66377566</td>\n",
       "      <td>...</td>\n",
       "      <td>1.17</td>\n",
       "      <td>7.40</td>\n",
       "      <td>54000000.0</td>\n",
       "      <td>551000.0</td>\n",
       "      <td>1.17</td>\n",
       "      <td>7.4</td>\n",
       "      <td>54000000</td>\n",
       "      <td>551000</td>\n",
       "      <td>0</td>\n",
       "      <td>1</td>\n",
       "    </tr>\n",
       "    <tr>\n",
       "      <th>1</th>\n",
       "      <td>77396.0</td>\n",
       "      <td>14</td>\n",
       "      <td>4</td>\n",
       "      <td>117</td>\n",
       "      <td>57620600.0</td>\n",
       "      <td>0.0</td>\n",
       "      <td>98.0</td>\n",
       "      <td>0.94</td>\n",
       "      <td>5.23</td>\n",
       "      <td>181394667</td>\n",
       "      <td>...</td>\n",
       "      <td>0.78</td>\n",
       "      <td>4.80</td>\n",
       "      <td>45000000.0</td>\n",
       "      <td>464000.0</td>\n",
       "      <td>0.78</td>\n",
       "      <td>4.8</td>\n",
       "      <td>45000000</td>\n",
       "      <td>464000</td>\n",
       "      <td>0</td>\n",
       "      <td>0</td>\n",
       "    </tr>\n",
       "    <tr>\n",
       "      <th>2</th>\n",
       "      <td>79850.0</td>\n",
       "      <td>28</td>\n",
       "      <td>7</td>\n",
       "      <td>315</td>\n",
       "      <td>121003260.0</td>\n",
       "      <td>16.0</td>\n",
       "      <td>115.0</td>\n",
       "      <td>0.94</td>\n",
       "      <td>5.23</td>\n",
       "      <td>181394667</td>\n",
       "      <td>...</td>\n",
       "      <td>1.66</td>\n",
       "      <td>6.33</td>\n",
       "      <td>209666667.0</td>\n",
       "      <td>2029000.0</td>\n",
       "      <td>3.84</td>\n",
       "      <td>6.1</td>\n",
       "      <td>465000000</td>\n",
       "      <td>4400000</td>\n",
       "      <td>1</td>\n",
       "      <td>3</td>\n",
       "    </tr>\n",
       "    <tr>\n",
       "      <th>3</th>\n",
       "      <td>253754.0</td>\n",
       "      <td>40</td>\n",
       "      <td>9</td>\n",
       "      <td>47</td>\n",
       "      <td>46096480.0</td>\n",
       "      <td>12.0</td>\n",
       "      <td>101.0</td>\n",
       "      <td>0.51</td>\n",
       "      <td>6.18</td>\n",
       "      <td>66377566</td>\n",
       "      <td>...</td>\n",
       "      <td>0.25</td>\n",
       "      <td>5.90</td>\n",
       "      <td>24275000.0</td>\n",
       "      <td>124000.0</td>\n",
       "      <td>0.16</td>\n",
       "      <td>6.4</td>\n",
       "      <td>7300000</td>\n",
       "      <td>61000</td>\n",
       "      <td>0</td>\n",
       "      <td>0</td>\n",
       "    </tr>\n",
       "    <tr>\n",
       "      <th>4</th>\n",
       "      <td>252013.0</td>\n",
       "      <td>44</td>\n",
       "      <td>10</td>\n",
       "      <td>188</td>\n",
       "      <td>57620600.0</td>\n",
       "      <td>6.0</td>\n",
       "      <td>90.0</td>\n",
       "      <td>1.19</td>\n",
       "      <td>6.07</td>\n",
       "      <td>148983326</td>\n",
       "      <td>...</td>\n",
       "      <td>0.33</td>\n",
       "      <td>6.70</td>\n",
       "      <td>19000000.0</td>\n",
       "      <td>295000.0</td>\n",
       "      <td>0.33</td>\n",
       "      <td>6.7</td>\n",
       "      <td>19000000</td>\n",
       "      <td>295000</td>\n",
       "      <td>0</td>\n",
       "      <td>0</td>\n",
       "    </tr>\n",
       "    <tr>\n",
       "      <th>...</th>\n",
       "      <td>...</td>\n",
       "      <td>...</td>\n",
       "      <td>...</td>\n",
       "      <td>...</td>\n",
       "      <td>...</td>\n",
       "      <td>...</td>\n",
       "      <td>...</td>\n",
       "      <td>...</td>\n",
       "      <td>...</td>\n",
       "      <td>...</td>\n",
       "      <td>...</td>\n",
       "      <td>...</td>\n",
       "      <td>...</td>\n",
       "      <td>...</td>\n",
       "      <td>...</td>\n",
       "      <td>...</td>\n",
       "      <td>...</td>\n",
       "      <td>...</td>\n",
       "      <td>...</td>\n",
       "      <td>...</td>\n",
       "      <td>...</td>\n",
       "    </tr>\n",
       "    <tr>\n",
       "      <th>1656</th>\n",
       "      <td>4493006.0</td>\n",
       "      <td>15</td>\n",
       "      <td>4</td>\n",
       "      <td>1656</td>\n",
       "      <td>39100000.0</td>\n",
       "      <td>12.0</td>\n",
       "      <td>91.0</td>\n",
       "      <td>1.88</td>\n",
       "      <td>5.36</td>\n",
       "      <td>129218872</td>\n",
       "      <td>...</td>\n",
       "      <td>0.25</td>\n",
       "      <td>5.90</td>\n",
       "      <td>24275000.0</td>\n",
       "      <td>124000.0</td>\n",
       "      <td>0.52</td>\n",
       "      <td>6.3</td>\n",
       "      <td>20396022</td>\n",
       "      <td>75750</td>\n",
       "      <td>0</td>\n",
       "      <td>0</td>\n",
       "    </tr>\n",
       "    <tr>\n",
       "      <th>1657</th>\n",
       "      <td>4400163.0</td>\n",
       "      <td>15</td>\n",
       "      <td>4</td>\n",
       "      <td>235</td>\n",
       "      <td>51790451.0</td>\n",
       "      <td>18.0</td>\n",
       "      <td>75.0</td>\n",
       "      <td>0.51</td>\n",
       "      <td>6.18</td>\n",
       "      <td>66377566</td>\n",
       "      <td>...</td>\n",
       "      <td>0.02</td>\n",
       "      <td>0.00</td>\n",
       "      <td>881000.0</td>\n",
       "      <td>2634.0</td>\n",
       "      <td>0.02</td>\n",
       "      <td>6.0</td>\n",
       "      <td>881000</td>\n",
       "      <td>2634</td>\n",
       "      <td>0</td>\n",
       "      <td>0</td>\n",
       "    </tr>\n",
       "    <tr>\n",
       "      <th>1658</th>\n",
       "      <td>5059142.0</td>\n",
       "      <td>16</td>\n",
       "      <td>4</td>\n",
       "      <td>23</td>\n",
       "      <td>79817750.0</td>\n",
       "      <td>16.0</td>\n",
       "      <td>101.0</td>\n",
       "      <td>0.51</td>\n",
       "      <td>6.18</td>\n",
       "      <td>66377566</td>\n",
       "      <td>...</td>\n",
       "      <td>1.04</td>\n",
       "      <td>7.10</td>\n",
       "      <td>16541000.0</td>\n",
       "      <td>84123.0</td>\n",
       "      <td>0.29</td>\n",
       "      <td>6.0</td>\n",
       "      <td>82000</td>\n",
       "      <td>245</td>\n",
       "      <td>0</td>\n",
       "      <td>0</td>\n",
       "    </tr>\n",
       "    <tr>\n",
       "      <th>1659</th>\n",
       "      <td>5002368.0</td>\n",
       "      <td>16</td>\n",
       "      <td>4</td>\n",
       "      <td>66</td>\n",
       "      <td>79817750.0</td>\n",
       "      <td>18.0</td>\n",
       "      <td>120.0</td>\n",
       "      <td>0.51</td>\n",
       "      <td>6.18</td>\n",
       "      <td>66377566</td>\n",
       "      <td>...</td>\n",
       "      <td>0.00</td>\n",
       "      <td>0.00</td>\n",
       "      <td>496626.0</td>\n",
       "      <td>1411.0</td>\n",
       "      <td>0.29</td>\n",
       "      <td>6.0</td>\n",
       "      <td>496626</td>\n",
       "      <td>1411</td>\n",
       "      <td>0</td>\n",
       "      <td>0</td>\n",
       "    </tr>\n",
       "    <tr>\n",
       "      <th>1660</th>\n",
       "      <td>5214412.0</td>\n",
       "      <td>16</td>\n",
       "      <td>4</td>\n",
       "      <td>432</td>\n",
       "      <td>37000000.0</td>\n",
       "      <td>16.0</td>\n",
       "      <td>90.0</td>\n",
       "      <td>0.79</td>\n",
       "      <td>5.96</td>\n",
       "      <td>52280641</td>\n",
       "      <td>...</td>\n",
       "      <td>0.03</td>\n",
       "      <td>0.00</td>\n",
       "      <td>992542.0</td>\n",
       "      <td>3347.0</td>\n",
       "      <td>0.03</td>\n",
       "      <td>6.0</td>\n",
       "      <td>992542</td>\n",
       "      <td>3347</td>\n",
       "      <td>0</td>\n",
       "      <td>0</td>\n",
       "    </tr>\n",
       "  </tbody>\n",
       "</table>\n",
       "<p>1661 rows × 33 columns</p>\n",
       "</div>"
      ],
      "text/plain": [
       "      ID_kinopoisk  week  month  screens       budget  age_R   time  \\\n",
       "0          70952.0     7      2      100   46096480.0   12.0  115.0   \n",
       "1          77396.0    14      4      117   57620600.0    0.0   98.0   \n",
       "2          79850.0    28      7      315  121003260.0   16.0  115.0   \n",
       "3         253754.0    40      9       47   46096480.0   12.0  101.0   \n",
       "4         252013.0    44     10      188   57620600.0    6.0   90.0   \n",
       "...            ...   ...    ...      ...          ...    ...    ...   \n",
       "1656     4493006.0    15      4     1656   39100000.0   12.0   91.0   \n",
       "1657     4400163.0    15      4      235   51790451.0   18.0   75.0   \n",
       "1658     5059142.0    16      4       23   79817750.0   16.0  101.0   \n",
       "1659     5002368.0    16      4       66   79817750.0   18.0  120.0   \n",
       "1660     5214412.0    16      4      432   37000000.0   16.0   90.0   \n",
       "\n",
       "      genre_box_buget  genre_avr_kinopoisk_R  genre_avr_box  ...  \\\n",
       "0                0.51                   6.18       66377566  ...   \n",
       "1                0.94                   5.23      181394667  ...   \n",
       "2                0.94                   5.23      181394667  ...   \n",
       "3                0.51                   6.18       66377566  ...   \n",
       "4                1.19                   6.07      148983326  ...   \n",
       "...               ...                    ...            ...  ...   \n",
       "1656             1.88                   5.36      129218872  ...   \n",
       "1657             0.51                   6.18       66377566  ...   \n",
       "1658             0.51                   6.18       66377566  ...   \n",
       "1659             0.51                   6.18       66377566  ...   \n",
       "1660             0.79                   5.96       52280641  ...   \n",
       "\n",
       "      skr2_box_buget  skr2_avr_kinopoisk_R  skr2_avr_box  skr2_avr_views  \\\n",
       "0               1.17                  7.40    54000000.0        551000.0   \n",
       "1               0.78                  4.80    45000000.0        464000.0   \n",
       "2               1.66                  6.33   209666667.0       2029000.0   \n",
       "3               0.25                  5.90    24275000.0        124000.0   \n",
       "4               0.33                  6.70    19000000.0        295000.0   \n",
       "...              ...                   ...           ...             ...   \n",
       "1656            0.25                  5.90    24275000.0        124000.0   \n",
       "1657            0.02                  0.00      881000.0          2634.0   \n",
       "1658            1.04                  7.10    16541000.0         84123.0   \n",
       "1659            0.00                  0.00      496626.0          1411.0   \n",
       "1660            0.03                  0.00      992542.0          3347.0   \n",
       "\n",
       "      box_budget  kinopoisk_R        box    views  rezult  rezult4  \n",
       "0           1.17          7.4   54000000   551000       0        1  \n",
       "1           0.78          4.8   45000000   464000       0        0  \n",
       "2           3.84          6.1  465000000  4400000       1        3  \n",
       "3           0.16          6.4    7300000    61000       0        0  \n",
       "4           0.33          6.7   19000000   295000       0        0  \n",
       "...          ...          ...        ...      ...     ...      ...  \n",
       "1656        0.52          6.3   20396022    75750       0        0  \n",
       "1657        0.02          6.0     881000     2634       0        0  \n",
       "1658        0.29          6.0      82000      245       0        0  \n",
       "1659        0.29          6.0     496626     1411       0        0  \n",
       "1660        0.03          6.0     992542     3347       0        0  \n",
       "\n",
       "[1661 rows x 33 columns]"
      ]
     },
     "execution_count": 2,
     "metadata": {},
     "output_type": "execute_result"
    }
   ],
   "source": [
    "#подгружаем и просматриваем наш датасет на 1660 файлов\n",
    "df = pd.read_csv('1660_films.csv')\n",
    "df"
   ]
  },
  {
   "cell_type": "code",
   "execution_count": 3,
   "id": "bec21688",
   "metadata": {},
   "outputs": [],
   "source": [
    "#Отбираем признаки для работы и  столбец с откликами\n",
    "cols = [\"week\", \"month\",\"screens\",\"budget\",\"age_R\",\"time\",\n",
    "        \"genre_box_buget\",\"genre_avr_kinopoisk_R\", \"genre_avr_box\",\"genre_avr_views\",\n",
    "        \"genre2_box_buget\",\"genre2_avr_kinopoisk_R\",\"genre2_avr_box\",\"genre2_avr_views\",\n",
    "        \"dir_box_buget\", \"dir_avr_kinopoisk_R\",\"dir_avr_box\",\"dir_avr_views\",\n",
    "        \"skr1_box_buget\", \"skr1_avr_kinopoisk_R\", \"skr1_avr_box\", \"skr1_avr_views\",\n",
    "        \"skr2_box_buget\", \"skr2_avr_kinopoisk_R\",\"skr2_avr_box\", \"skr2_avr_views\"] # назначаем столбцы \n",
    "X = df[cols] # отбираем оцениваемые признаки-предикторы\n",
    "y = df[\"rezult\"] # отбираем столбец с откликами"
   ]
  },
  {
   "cell_type": "code",
   "execution_count": 4,
   "id": "985f8610",
   "metadata": {},
   "outputs": [],
   "source": [
    "from sklearn.model_selection import train_test_split\n",
    "#Делим выборку на тренинговую и тестовую\n",
    "X_train, X_test, y_train, y_test = train_test_split(X, y, test_size = 0.3, random_state=42) # делим выборку 70/30 - тренинговая/тестовая"
   ]
  },
  {
   "cell_type": "code",
   "execution_count": 23,
   "id": "92990331",
   "metadata": {},
   "outputs": [
    {
     "data": {
      "text/html": [
       "<style>#sk-container-id-3 {color: black;}#sk-container-id-3 pre{padding: 0;}#sk-container-id-3 div.sk-toggleable {background-color: white;}#sk-container-id-3 label.sk-toggleable__label {cursor: pointer;display: block;width: 100%;margin-bottom: 0;padding: 0.3em;box-sizing: border-box;text-align: center;}#sk-container-id-3 label.sk-toggleable__label-arrow:before {content: \"▸\";float: left;margin-right: 0.25em;color: #696969;}#sk-container-id-3 label.sk-toggleable__label-arrow:hover:before {color: black;}#sk-container-id-3 div.sk-estimator:hover label.sk-toggleable__label-arrow:before {color: black;}#sk-container-id-3 div.sk-toggleable__content {max-height: 0;max-width: 0;overflow: hidden;text-align: left;background-color: #f0f8ff;}#sk-container-id-3 div.sk-toggleable__content pre {margin: 0.2em;color: black;border-radius: 0.25em;background-color: #f0f8ff;}#sk-container-id-3 input.sk-toggleable__control:checked~div.sk-toggleable__content {max-height: 200px;max-width: 100%;overflow: auto;}#sk-container-id-3 input.sk-toggleable__control:checked~label.sk-toggleable__label-arrow:before {content: \"▾\";}#sk-container-id-3 div.sk-estimator input.sk-toggleable__control:checked~label.sk-toggleable__label {background-color: #d4ebff;}#sk-container-id-3 div.sk-label input.sk-toggleable__control:checked~label.sk-toggleable__label {background-color: #d4ebff;}#sk-container-id-3 input.sk-hidden--visually {border: 0;clip: rect(1px 1px 1px 1px);clip: rect(1px, 1px, 1px, 1px);height: 1px;margin: -1px;overflow: hidden;padding: 0;position: absolute;width: 1px;}#sk-container-id-3 div.sk-estimator {font-family: monospace;background-color: #f0f8ff;border: 1px dotted black;border-radius: 0.25em;box-sizing: border-box;margin-bottom: 0.5em;}#sk-container-id-3 div.sk-estimator:hover {background-color: #d4ebff;}#sk-container-id-3 div.sk-parallel-item::after {content: \"\";width: 100%;border-bottom: 1px solid gray;flex-grow: 1;}#sk-container-id-3 div.sk-label:hover label.sk-toggleable__label {background-color: #d4ebff;}#sk-container-id-3 div.sk-serial::before {content: \"\";position: absolute;border-left: 1px solid gray;box-sizing: border-box;top: 0;bottom: 0;left: 50%;z-index: 0;}#sk-container-id-3 div.sk-serial {display: flex;flex-direction: column;align-items: center;background-color: white;padding-right: 0.2em;padding-left: 0.2em;position: relative;}#sk-container-id-3 div.sk-item {position: relative;z-index: 1;}#sk-container-id-3 div.sk-parallel {display: flex;align-items: stretch;justify-content: center;background-color: white;position: relative;}#sk-container-id-3 div.sk-item::before, #sk-container-id-3 div.sk-parallel-item::before {content: \"\";position: absolute;border-left: 1px solid gray;box-sizing: border-box;top: 0;bottom: 0;left: 50%;z-index: -1;}#sk-container-id-3 div.sk-parallel-item {display: flex;flex-direction: column;z-index: 1;position: relative;background-color: white;}#sk-container-id-3 div.sk-parallel-item:first-child::after {align-self: flex-end;width: 50%;}#sk-container-id-3 div.sk-parallel-item:last-child::after {align-self: flex-start;width: 50%;}#sk-container-id-3 div.sk-parallel-item:only-child::after {width: 0;}#sk-container-id-3 div.sk-dashed-wrapped {border: 1px dashed gray;margin: 0 0.4em 0.5em 0.4em;box-sizing: border-box;padding-bottom: 0.4em;background-color: white;}#sk-container-id-3 div.sk-label label {font-family: monospace;font-weight: bold;display: inline-block;line-height: 1.2em;}#sk-container-id-3 div.sk-label-container {text-align: center;}#sk-container-id-3 div.sk-container {/* jupyter's `normalize.less` sets `[hidden] { display: none; }` but bootstrap.min.css set `[hidden] { display: none !important; }` so we also need the `!important` here to be able to override the default hidden behavior on the sphinx rendered scikit-learn.org. See: https://github.com/scikit-learn/scikit-learn/issues/21755 */display: inline-block !important;position: relative;}#sk-container-id-3 div.sk-text-repr-fallback {display: none;}</style><div id=\"sk-container-id-3\" class=\"sk-top-container\"><div class=\"sk-text-repr-fallback\"><pre>DecisionTreeClassifier(random_state=42)</pre><b>In a Jupyter environment, please rerun this cell to show the HTML representation or trust the notebook. <br />On GitHub, the HTML representation is unable to render, please try loading this page with nbviewer.org.</b></div><div class=\"sk-container\" hidden><div class=\"sk-item\"><div class=\"sk-estimator sk-toggleable\"><input class=\"sk-toggleable__control sk-hidden--visually\" id=\"sk-estimator-id-3\" type=\"checkbox\" checked><label for=\"sk-estimator-id-3\" class=\"sk-toggleable__label sk-toggleable__label-arrow\">DecisionTreeClassifier</label><div class=\"sk-toggleable__content\"><pre>DecisionTreeClassifier(random_state=42)</pre></div></div></div></div></div>"
      ],
      "text/plain": [
       "DecisionTreeClassifier(random_state=42)"
      ]
     },
     "execution_count": 23,
     "metadata": {},
     "output_type": "execute_result"
    }
   ],
   "source": [
    "from sklearn.tree import DecisionTreeClassifier\n",
    "\n",
    "decision_tree = DecisionTreeClassifier(random_state=42)\n",
    "decision_tree.fit(X_train, y_train)"
   ]
  },
  {
   "cell_type": "code",
   "execution_count": 24,
   "id": "ba735240",
   "metadata": {},
   "outputs": [],
   "source": [
    "#предсказание с помощью обученной модели\n",
    "Y_pred = decision_tree.predict(X_test)"
   ]
  },
  {
   "cell_type": "code",
   "execution_count": 25,
   "id": "b1140e3a",
   "metadata": {},
   "outputs": [],
   "source": [
    "#ищем вероятности отнесения к 0 и 1 классу объектов тестовых данных \n",
    "y_pred_proba = decision_tree.predict_proba(X_test)[:,1]"
   ]
  },
  {
   "cell_type": "code",
   "execution_count": 28,
   "id": "642cca4f",
   "metadata": {},
   "outputs": [
    {
     "name": "stdout",
     "output_type": "stream",
     "text": [
      "Точность предсказаний: 0.9158316633266533\n",
      "Количество предсказанных верно из 499: 457\n"
     ]
    }
   ],
   "source": [
    "print('Точность предсказаний:',metrics.accuracy_score(Y_pred, y_test))\n",
    "print('Количество предсказанных верно из 499:', metrics.accuracy_score(Y_pred, y_test, normalize=False))\n",
    "a1= metrics.accuracy_score(Y_pred, y_test)"
   ]
  },
  {
   "cell_type": "code",
   "execution_count": 29,
   "id": "ff7440d0",
   "metadata": {},
   "outputs": [
    {
     "name": "stdout",
     "output_type": "stream",
     "text": [
      "Матрица ошибок:\n",
      "[[422  19]\n",
      " [ 23  35]]\n"
     ]
    }
   ],
   "source": [
    "from sklearn.metrics import confusion_matrix, classification_report\n",
    "\n",
    "# Матрица ошибок\n",
    "conf_matrix = confusion_matrix(y_test, Y_pred)\n",
    "print('Матрица ошибок:')\n",
    "print(conf_matrix)"
   ]
  },
  {
   "cell_type": "code",
   "execution_count": 30,
   "id": "0448ebe3",
   "metadata": {},
   "outputs": [
    {
     "data": {
      "image/png": "[encoded data removed]",
      "text/plain": [
       "<Figure size 640x480 with 2 Axes>"
      ]
     },
     "metadata": {},
     "output_type": "display_data"
    }
   ],
   "source": [
    "#сделаем картинку красивой\n",
    "import numpy as np\n",
    "import matplotlib.pyplot as plt\n",
    "import itertools\n",
    "\n",
    "# Создаем матрицу ошибок\n",
    "confusion_matrix = np.array([[422,  19],\n",
    "                            [23, 35]])\n",
    "\n",
    "# Создаем список меток классов\n",
    "labels = [\"провал-0\", \"успех-1\"]\n",
    "\n",
    "# Отображение матрицы ошибок\n",
    "plt.imshow(confusion_matrix, interpolation='nearest', cmap=plt.cm.Blues)\n",
    "plt.title(\"Матрица ошибок\")\n",
    "plt.colorbar()\n",
    "\n",
    "# Добавляем метки осей\n",
    "tick_marks = np.arange(len(labels))\n",
    "plt.xticks(tick_marks, labels)\n",
    "plt.yticks(tick_marks, labels)\n",
    "\n",
    "# Добавляем числа в ячейки\n",
    "thresh = confusion_matrix.max() / 2.\n",
    "for i, j in itertools.product(range(confusion_matrix.shape[0]), range(confusion_matrix.shape[1])):\n",
    "    plt.text(j, i, format(confusion_matrix[i, j], 'd'),\n",
    "             horizontalalignment=\"center\",\n",
    "             color=\"white\" if confusion_matrix[i, j] > thresh else \"black\")\n",
    "\n",
    "# Делаем красивые настройки\n",
    "plt.tight_layout()\n",
    "plt.ylabel(\"Реальные значения\")\n",
    "plt.xlabel(\"Предсказанные значения\")\n",
    "plt.show()"
   ]
  },
  {
   "cell_type": "code",
   "execution_count": 31,
   "id": "9c316565",
   "metadata": {
    "scrolled": true
   },
   "outputs": [
    {
     "name": "stdout",
     "output_type": "stream",
     "text": [
      "Отчет о классификации:\n",
      "              precision    recall  f1-score   support\n",
      "\n",
      "           0     0.9483    0.9569    0.9526       441\n",
      "           1     0.6481    0.6034    0.6250        58\n",
      "\n",
      "    accuracy                         0.9158       499\n",
      "   macro avg     0.7982    0.7802    0.7888       499\n",
      "weighted avg     0.9134    0.9158    0.9145       499\n",
      "\n"
     ]
    }
   ],
   "source": [
    "# Отчет о классификации\n",
    "class_report = classification_report(y_test, Y_pred, digits=4)\n",
    "print('Отчет о классификации:')\n",
    "print(class_report)"
   ]
  },
  {
   "cell_type": "code",
   "execution_count": 40,
   "id": "71f96f94",
   "metadata": {},
   "outputs": [
    {
     "name": "stdout",
     "output_type": "stream",
     "text": [
      "best score:  0.9560934276451519\n",
      "best param:  {'criterion': 'gini', 'max_depth': 5, 'max_features': 7, 'min_samples_leaf': 2, 'min_samples_split': 15, 'splitter': 'best'}\n",
      "test score: 0.9418837675350702\n"
     ]
    }
   ],
   "source": [
    "from sklearn.model_selection import GridSearchCV\n",
    "from sklearn.model_selection import StratifiedKFold\n",
    "#from sklearn.metrics import accuracy_score\n",
    "\n",
    "criterion = [\"gini\", \"entropy\", \"log_loss\"]\n",
    "splitter = [\"best\", \"random\"]\n",
    "max_depth = [ 3, 4, 5, 6]\n",
    "min_samples_split = [10, 12, 15]\n",
    "min_samples_leaf = [1, 2, 3, 4]\n",
    "max_features = [ 5, 6, 7, 8]\n",
    "\n",
    "cv = StratifiedKFold(10)\n",
    "\n",
    "decision_tree = DecisionTreeClassifier(random_state=42)\n",
    "grid_dt = GridSearchCV(estimator=decision_tree, cv=cv, \n",
    "        param_grid=dict(criterion=criterion,splitter=splitter, max_depth=max_depth,\n",
    "                        min_samples_split=min_samples_split, min_samples_leaf=min_samples_leaf,\n",
    "                        max_features= max_features))\n",
    "grid_dt.fit(X_train, y_train)\n",
    "print(\"best score: \", grid_dt.best_score_)\n",
    "print(\"best param: \", grid_dt.best_params_)\n",
    "print(\"test score:\", grid_dt.score(X_test, y_test))"
   ]
  },
  {
   "cell_type": "code",
   "execution_count": 41,
   "id": "243b056a",
   "metadata": {},
   "outputs": [],
   "source": [
    "#Создадим новый классификатор \n",
    "#from sklearn import tree\n",
    "final_decision_tree = DecisionTreeClassifier(random_state=42)\n",
    "final_decision_tree = grid_dt.best_estimator_   #передадим полученные лучшие параметры в классификатор"
   ]
  },
  {
   "cell_type": "code",
   "execution_count": 42,
   "id": "815e6ad7",
   "metadata": {},
   "outputs": [
    {
     "data": {
      "text/html": [
       "<style>#sk-container-id-5 {color: black;}#sk-container-id-5 pre{padding: 0;}#sk-container-id-5 div.sk-toggleable {background-color: white;}#sk-container-id-5 label.sk-toggleable__label {cursor: pointer;display: block;width: 100%;margin-bottom: 0;padding: 0.3em;box-sizing: border-box;text-align: center;}#sk-container-id-5 label.sk-toggleable__label-arrow:before {content: \"▸\";float: left;margin-right: 0.25em;color: #696969;}#sk-container-id-5 label.sk-toggleable__label-arrow:hover:before {color: black;}#sk-container-id-5 div.sk-estimator:hover label.sk-toggleable__label-arrow:before {color: black;}#sk-container-id-5 div.sk-toggleable__content {max-height: 0;max-width: 0;overflow: hidden;text-align: left;background-color: #f0f8ff;}#sk-container-id-5 div.sk-toggleable__content pre {margin: 0.2em;color: black;border-radius: 0.25em;background-color: #f0f8ff;}#sk-container-id-5 input.sk-toggleable__control:checked~div.sk-toggleable__content {max-height: 200px;max-width: 100%;overflow: auto;}#sk-container-id-5 input.sk-toggleable__control:checked~label.sk-toggleable__label-arrow:before {content: \"▾\";}#sk-container-id-5 div.sk-estimator input.sk-toggleable__control:checked~label.sk-toggleable__label {background-color: #d4ebff;}#sk-container-id-5 div.sk-label input.sk-toggleable__control:checked~label.sk-toggleable__label {background-color: #d4ebff;}#sk-container-id-5 input.sk-hidden--visually {border: 0;clip: rect(1px 1px 1px 1px);clip: rect(1px, 1px, 1px, 1px);height: 1px;margin: -1px;overflow: hidden;padding: 0;position: absolute;width: 1px;}#sk-container-id-5 div.sk-estimator {font-family: monospace;background-color: #f0f8ff;border: 1px dotted black;border-radius: 0.25em;box-sizing: border-box;margin-bottom: 0.5em;}#sk-container-id-5 div.sk-estimator:hover {background-color: #d4ebff;}#sk-container-id-5 div.sk-parallel-item::after {content: \"\";width: 100%;border-bottom: 1px solid gray;flex-grow: 1;}#sk-container-id-5 div.sk-label:hover label.sk-toggleable__label {background-color: #d4ebff;}#sk-container-id-5 div.sk-serial::before {content: \"\";position: absolute;border-left: 1px solid gray;box-sizing: border-box;top: 0;bottom: 0;left: 50%;z-index: 0;}#sk-container-id-5 div.sk-serial {display: flex;flex-direction: column;align-items: center;background-color: white;padding-right: 0.2em;padding-left: 0.2em;position: relative;}#sk-container-id-5 div.sk-item {position: relative;z-index: 1;}#sk-container-id-5 div.sk-parallel {display: flex;align-items: stretch;justify-content: center;background-color: white;position: relative;}#sk-container-id-5 div.sk-item::before, #sk-container-id-5 div.sk-parallel-item::before {content: \"\";position: absolute;border-left: 1px solid gray;box-sizing: border-box;top: 0;bottom: 0;left: 50%;z-index: -1;}#sk-container-id-5 div.sk-parallel-item {display: flex;flex-direction: column;z-index: 1;position: relative;background-color: white;}#sk-container-id-5 div.sk-parallel-item:first-child::after {align-self: flex-end;width: 50%;}#sk-container-id-5 div.sk-parallel-item:last-child::after {align-self: flex-start;width: 50%;}#sk-container-id-5 div.sk-parallel-item:only-child::after {width: 0;}#sk-container-id-5 div.sk-dashed-wrapped {border: 1px dashed gray;margin: 0 0.4em 0.5em 0.4em;box-sizing: border-box;padding-bottom: 0.4em;background-color: white;}#sk-container-id-5 div.sk-label label {font-family: monospace;font-weight: bold;display: inline-block;line-height: 1.2em;}#sk-container-id-5 div.sk-label-container {text-align: center;}#sk-container-id-5 div.sk-container {/* jupyter's `normalize.less` sets `[hidden] { display: none; }` but bootstrap.min.css set `[hidden] { display: none !important; }` so we also need the `!important` here to be able to override the default hidden behavior on the sphinx rendered scikit-learn.org. See: https://github.com/scikit-learn/scikit-learn/issues/21755 */display: inline-block !important;position: relative;}#sk-container-id-5 div.sk-text-repr-fallback {display: none;}</style><div id=\"sk-container-id-5\" class=\"sk-top-container\"><div class=\"sk-text-repr-fallback\"><pre>DecisionTreeClassifier(max_depth=5, max_features=7, min_samples_leaf=2,\n",
       "                       min_samples_split=15, random_state=42)</pre><b>In a Jupyter environment, please rerun this cell to show the HTML representation or trust the notebook. <br />On GitHub, the HTML representation is unable to render, please try loading this page with nbviewer.org.</b></div><div class=\"sk-container\" hidden><div class=\"sk-item\"><div class=\"sk-estimator sk-toggleable\"><input class=\"sk-toggleable__control sk-hidden--visually\" id=\"sk-estimator-id-5\" type=\"checkbox\" checked><label for=\"sk-estimator-id-5\" class=\"sk-toggleable__label sk-toggleable__label-arrow\">DecisionTreeClassifier</label><div class=\"sk-toggleable__content\"><pre>DecisionTreeClassifier(max_depth=5, max_features=7, min_samples_leaf=2,\n",
       "                       min_samples_split=15, random_state=42)</pre></div></div></div></div></div>"
      ],
      "text/plain": [
       "DecisionTreeClassifier(max_depth=5, max_features=7, min_samples_leaf=2,\n",
       "                       min_samples_split=15, random_state=42)"
      ]
     },
     "execution_count": 42,
     "metadata": {},
     "output_type": "execute_result"
    }
   ],
   "source": [
    "#Запустим обучение модели с подобранными гиперпараметрами\n",
    "final_decision_tree.fit(X_train, y_train)"
   ]
  },
  {
   "cell_type": "code",
   "execution_count": 46,
   "id": "09c3406a",
   "metadata": {},
   "outputs": [],
   "source": [
    "#предсказание с помощью обученной модели \n",
    "Y_pred = final_decision_tree.predict(X_test)"
   ]
  },
  {
   "cell_type": "code",
   "execution_count": 47,
   "id": "321ea69b",
   "metadata": {},
   "outputs": [
    {
     "name": "stdout",
     "output_type": "stream",
     "text": [
      "Точность предсказаний: 0.9418837675350702\n",
      "Количество предсказанных верно из 499: 470\n"
     ]
    }
   ],
   "source": [
    "print('Точность предсказаний:',metrics.accuracy_score(Y_pred, y_test))\n",
    "print('Количество предсказанных верно из 499:', metrics.accuracy_score(Y_pred, y_test, normalize=False))\n",
    "a1= metrics.accuracy_score(Y_pred, y_test)"
   ]
  },
  {
   "cell_type": "code",
   "execution_count": 48,
   "id": "bd3743ed",
   "metadata": {},
   "outputs": [
    {
     "name": "stdout",
     "output_type": "stream",
     "text": [
      "Отчет о классификации:\n",
      "              precision    recall  f1-score   support\n",
      "\n",
      "           0     0.9703    0.9637    0.9670       441\n",
      "           1     0.7377    0.7759    0.7563        58\n",
      "\n",
      "    accuracy                         0.9419       499\n",
      "   macro avg     0.8540    0.8698    0.8617       499\n",
      "weighted avg     0.9433    0.9419    0.9425       499\n",
      "\n"
     ]
    }
   ],
   "source": [
    "# Отчет о классификации\n",
    "class_report = classification_report(y_test, Y_pred, digits=4)\n",
    "print('Отчет о классификации:')\n",
    "print(class_report)"
   ]
  },
  {
   "cell_type": "code",
   "execution_count": 51,
   "id": "88940260",
   "metadata": {},
   "outputs": [
    {
     "name": "stdout",
     "output_type": "stream",
     "text": [
      "Матрица ошибок:\n",
      "[[425  16]\n",
      " [ 13  45]]\n"
     ]
    }
   ],
   "source": [
    "from sklearn.metrics import confusion_matrix, classification_report\n",
    "\n",
    "# Матрица ошибок\n",
    "conf_matrix = confusion_matrix(y_test, Y_pred)\n",
    "print('Матрица ошибок:')\n",
    "print(conf_matrix)"
   ]
  },
  {
   "cell_type": "code",
   "execution_count": 53,
   "id": "13aca605",
   "metadata": {},
   "outputs": [
    {
     "data": {
      "image/png": "[encoded data removed]",
      "text/plain": [
       "<Figure size 640x480 with 2 Axes>"
      ]
     },
     "metadata": {},
     "output_type": "display_data"
    }
   ],
   "source": [
    "#Создаем матрицу ошибок\n",
    "confusion_matrix = np.array([[425,  16],\n",
    "                            [13, 45]])\n",
    "\n",
    "# Создаем список меток классов\n",
    "labels = [\"провал-0\", \"успех-1\"]\n",
    "\n",
    "# Отображение матрицы ошибок\n",
    "plt.imshow(confusion_matrix, interpolation='nearest', cmap=plt.cm.Blues)\n",
    "plt.title(\"Матрица ошибок\")\n",
    "plt.colorbar()\n",
    "\n",
    "# Добавляем метки осей\n",
    "tick_marks = np.arange(len(labels))\n",
    "plt.xticks(tick_marks, labels)\n",
    "plt.yticks(tick_marks, labels)\n",
    "\n",
    "# Добавляем числа в ячейки\n",
    "thresh = confusion_matrix.max() / 2.\n",
    "for i, j in itertools.product(range(confusion_matrix.shape[0]), range(confusion_matrix.shape[1])):\n",
    "    plt.text(j, i, format(confusion_matrix[i, j], 'd'),\n",
    "             horizontalalignment=\"center\",\n",
    "             color=\"white\" if confusion_matrix[i, j] > thresh else \"black\")\n",
    "\n",
    "# Делаем красивые настройки\n",
    "plt.tight_layout()\n",
    "plt.ylabel(\"Реальные значения\")\n",
    "plt.xlabel(\"Предсказанные значения\")\n",
    "plt.show()"
   ]
  },
  {
   "cell_type": "code",
   "execution_count": null,
   "id": "4a5f966a",
   "metadata": {},
   "outputs": [],
   "source": []
  }
 ],
 "metadata": {
  "kernelspec": {
   "display_name": "Python 3 (ipykernel)",
   "language": "python",
   "name": "python3"
  },
  "language_info": {
   "codemirror_mode": {
    "name": "ipython",
    "version": 3
   },
   "file_extension": ".py",
   "mimetype": "text/x-python",
   "name": "python",
   "nbconvert_exporter": "python",
   "pygments_lexer": "ipython3",
   "version": "3.9.7"
  }
 },
 "nbformat": 4,
 "nbformat_minor": 5
}
